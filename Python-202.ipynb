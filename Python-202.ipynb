{
 "cells": [
  {
   "cell_type": "markdown",
   "metadata": {},
   "source": [
    "# Python 202\n",
    "\n",
    "## Learning goals:\n",
    "\n",
    "Today we will:\n",
    "\n",
    "- Revisit what we can do with for loops, using dictionaries\n",
    "- Understand function arguments, and write functions both with and without arguments (and with default values!)\n",
    "- Write functions that build up from for loops\n",
    "\n",
    "Some new things we're bringing up that weren't covered in bootcamp prep:\n",
    "\n",
    "- using `.items()` with dictionaries to call both the dictionary keys and the dictionary values\n",
    "- formatting f-strings to print a certain number of decimal places\n",
    "\n",
    "## Scenario\n",
    "\n",
    "![groc-cart](https://images.pexels.com/photos/1389103/pexels-photo-1389103.jpeg?auto=compress&cs=tinysrgb&dpr=2&h=750&w=1260)\n",
    "\n",
    "Who has ever gotten to the cash register at Costco, or Whole Foods, or Target, then seen the total and asked, _\"How did I spend that much?!\"_ \n",
    "\n",
    "We have a grocery list of items and prices, but we do not have infinite money (unfortunately), so let's use Python help us manage our shopping and expenses."
   ]
  },
  {
   "cell_type": "markdown",
   "metadata": {},
   "source": [
    "### For Loops:\n",
    "\n",
    "Let's revisit for loops. Below, we have a list of items, and a separate list of costs. Let's build up to where we can write a loop to print each item, its cost, and the total of our grocery list."
   ]
  },
  {
   "cell_type": "code",
   "execution_count": 1,
   "metadata": {},
   "outputs": [],
   "source": [
    "# Here is our grocery list\n",
    "items = ['cheese', 'whole milk', 'kefir', 'tofu four-pack', 'kale', 'oranges', \n",
    "         'ham', \"ben & jerry's\"]\n",
    "\n",
    "# Here is our cost list\n",
    "cost = [2.79, 3.42, 4.50, 12.00, 2.75, 3.64, 25.00, 5.29]"
   ]
  },
  {
   "cell_type": "markdown",
   "metadata": {},
   "source": [
    "Let's make that a little nicer looking. \n",
    "\n",
    "Create a `for` loop that prints each item in the list with \"I need to buy: \" + item:"
   ]
  },
  {
   "cell_type": "code",
   "execution_count": 3,
   "metadata": {},
   "outputs": [
    {
     "name": "stdout",
     "output_type": "stream",
     "text": [
      "I need to buy cheese\n",
      "I need to buy whole milk\n",
      "I need to buy kefir\n",
      "I need to buy tofu four-pack\n",
      "I need to buy kale\n",
      "I need to buy oranges\n",
      "I need to buy ham\n",
      "I need to buy ben & jerry's\n"
     ]
    }
   ],
   "source": [
    "# Replace pass with appropriate code to write your for loop\n",
    "\n",
    "for item in items:\n",
    "    print(f\"I need to buy {item}\") "
   ]
  },
  {
   "cell_type": "markdown",
   "metadata": {},
   "source": [
    "Okay, we want to work through a dictionary, so what's one way we discussed previously to convert those two lists to a dictionary?"
   ]
  },
  {
   "cell_type": "code",
   "execution_count": 4,
   "metadata": {},
   "outputs": [],
   "source": [
    "# Replace None with appropriate code to create your dictionary\n",
    "grocery_list = dict(zip(items, cost))"
   ]
  },
  {
   "cell_type": "code",
   "execution_count": 5,
   "metadata": {
    "scrolled": true
   },
   "outputs": [
    {
     "data": {
      "text/plain": [
       "{'cheese': 2.79,\n",
       " 'whole milk': 3.42,\n",
       " 'kefir': 4.5,\n",
       " 'tofu four-pack': 12.0,\n",
       " 'kale': 2.75,\n",
       " 'oranges': 3.64,\n",
       " 'ham': 25.0,\n",
       " \"ben & jerry's\": 5.29}"
      ]
     },
     "execution_count": 5,
     "metadata": {},
     "output_type": "execute_result"
    }
   ],
   "source": [
    "# Check your work\n",
    "grocery_list"
   ]
  },
  {
   "cell_type": "markdown",
   "metadata": {},
   "source": [
    "So let's now add the total grocery bill at the end for these items:\n",
    "\n",
    "(use values, not the cost list from before!)"
   ]
  },
  {
   "cell_type": "code",
   "execution_count": 6,
   "metadata": {
    "scrolled": true
   },
   "outputs": [
    {
     "data": {
      "text/plain": [
       "59.39"
      ]
     },
     "execution_count": 6,
     "metadata": {},
     "output_type": "execute_result"
    }
   ],
   "source": [
    "# Calculate your sum\n",
    "sum(grocery_list.values())"
   ]
  },
  {
   "cell_type": "markdown",
   "metadata": {},
   "source": [
    "Gah! What if we're trying to be frugal?\n",
    "\n",
    "One way to do that would be to not buy any item that's more expensive than $10.\n",
    "\n",
    "Let's learn a new trick while we're at it - `.items()` will create two variables from a dictionary, one with the keys and one with the values.\n",
    "\n",
    "Let's use `.items()`, conditionals, and a for loop to only add items that are cheaper then $10 to our total:"
   ]
  },
  {
   "cell_type": "code",
   "execution_count": 56,
   "metadata": {
    "scrolled": true
   },
   "outputs": [
    {
     "name": "stdout",
     "output_type": "stream",
     "text": [
      "Adding cheese to the grocery list\n",
      "Current total is: 2.79\n",
      "Adding whole milk to the grocery list\n",
      "Current total is: 6.21\n",
      "Adding kefir to the grocery list\n",
      "Current total is: 10.71\n",
      "tofu four-pack is too expensive.\n",
      "Adding kale to the grocery list\n",
      "Current total is: 13.46\n",
      "Adding oranges to the grocery list\n",
      "Current total is: 17.1\n",
      "ham is too expensive.\n",
      "Adding ben & jerry's to the grocery list\n",
      "Current total is: 22.39\n"
     ]
    }
   ],
   "source": [
    "# Code here \n",
    "grocery_total = 0\n",
    "for key, value in grocery_list.items():\n",
    "    if value > 10:\n",
    "        print(f\"{key} is too expensive.\")\n",
    "    else:\n",
    "        grocery_total += value\n",
    "        print(f\"Adding {key} to the grocery list\")\n",
    "        print(f\"Current total is: {grocery_total}\")"
   ]
  },
  {
   "cell_type": "markdown",
   "metadata": {},
   "source": [
    "### Functions:\n",
    "\n",
    "For the record - it's always best practice to follow [PEP-8](https://www.python.org/dev/peps/pep-0008/) standards when writing Python code. The [standard for function names](https://www.python.org/dev/peps/pep-0008/#function-and-variable-names) is that they are lowercase, separated by underscores - same as variable names."
   ]
  },
  {
   "cell_type": "markdown",
   "metadata": {},
   "source": [
    "#### Built-in functions\n",
    "\n",
    "Many useful functions are already built into Python:\n",
    "\n",
    "- `print()`: print the given string or variable's value\n",
    "- `type()`: returns the datatype of the argument\n",
    "- `len()`: returns the length of an array\n",
    "- `sum()`: returns the sum of the array's values\n",
    "- `min()`: returns the smallest member of an array \n",
    "- `max()`: returns the largest member of an array\n",
    "\n",
    "#### Writing your own functions:\n",
    "\n",
    "Below is a function that we define. How do we run it?"
   ]
  },
  {
   "cell_type": "code",
   "execution_count": 93,
   "metadata": {},
   "outputs": [],
   "source": [
    "# Run this cell without changes\n",
    "def say_hello():\n",
    "    print(\"Hello!\")"
   ]
  },
  {
   "cell_type": "code",
   "execution_count": 94,
   "metadata": {},
   "outputs": [
    {
     "name": "stdout",
     "output_type": "stream",
     "text": [
      "Hello!\n"
     ]
    }
   ],
   "source": [
    "# Test our sayHello function here\n",
    "say_hello()"
   ]
  },
  {
   "cell_type": "markdown",
   "metadata": {},
   "source": [
    "Let's talk about arguments or parameters - they allow us to make functions more dynamic and, in this case, print out whatever we want."
   ]
  },
  {
   "cell_type": "code",
   "execution_count": 96,
   "metadata": {},
   "outputs": [],
   "source": [
    "# Run this cell without changes\n",
    "def shout(phrase):\n",
    "    print(phrase + \"!!!\")"
   ]
  },
  {
   "cell_type": "code",
   "execution_count": 97,
   "metadata": {},
   "outputs": [
    {
     "name": "stdout",
     "output_type": "stream",
     "text": [
      "HELLO!!!\n"
     ]
    }
   ],
   "source": [
    "# Shout something here\n",
    "shout(\"HELLO\")"
   ]
  },
  {
   "cell_type": "markdown",
   "metadata": {},
   "source": [
    "What if we don't pass in an argument? What happens?"
   ]
  },
  {
   "cell_type": "code",
   "execution_count": 98,
   "metadata": {},
   "outputs": [
    {
     "ename": "TypeError",
     "evalue": "shout() missing 1 required positional argument: 'phrase'",
     "output_type": "error",
     "traceback": [
      "\u001b[0;31m---------------------------------------------------------------------------\u001b[0m",
      "\u001b[0;31mTypeError\u001b[0m                                 Traceback (most recent call last)",
      "\u001b[0;32m<ipython-input-98-d3cf14477dc6>\u001b[0m in \u001b[0;36m<module>\u001b[0;34m\u001b[0m\n\u001b[1;32m      1\u001b[0m \u001b[0;31m# Test our shout function without an argument\u001b[0m\u001b[0;34m\u001b[0m\u001b[0;34m\u001b[0m\u001b[0;34m\u001b[0m\u001b[0m\n\u001b[0;32m----> 2\u001b[0;31m \u001b[0mshout\u001b[0m\u001b[0;34m(\u001b[0m\u001b[0;34m)\u001b[0m\u001b[0;34m\u001b[0m\u001b[0;34m\u001b[0m\u001b[0m\n\u001b[0m",
      "\u001b[0;31mTypeError\u001b[0m: shout() missing 1 required positional argument: 'phrase'"
     ]
    }
   ],
   "source": [
    "# Test our shout function without an argument\n",
    "shout()"
   ]
  },
  {
   "cell_type": "markdown",
   "metadata": {},
   "source": [
    "Let's establish a default value for the argument, in case one isn't passed in."
   ]
  },
  {
   "cell_type": "code",
   "execution_count": 100,
   "metadata": {},
   "outputs": [],
   "source": [
    "# Run this cell without changes\n",
    "def new_shout(phrase = \"oh hai\"):\n",
    "    print(phrase + \"!!!\")"
   ]
  },
  {
   "cell_type": "code",
   "execution_count": 101,
   "metadata": {},
   "outputs": [
    {
     "name": "stdout",
     "output_type": "stream",
     "text": [
      "oh hai!!!\n",
      "HELLO!!!\n"
     ]
    }
   ],
   "source": [
    "# Test our new shout function without an argument\n",
    "new_shout()\n",
    "# Test our new shout function with an argument\n",
    "new_shout(\"HELLO\")"
   ]
  },
  {
   "cell_type": "markdown",
   "metadata": {},
   "source": [
    "What if we wanted to run a function, take its output and put it in to another function?\n",
    "\n",
    "What will the below code return?"
   ]
  },
  {
   "cell_type": "code",
   "execution_count": 102,
   "metadata": {},
   "outputs": [
    {
     "name": "stdout",
     "output_type": "stream",
     "text": [
      "10\n"
     ]
    }
   ],
   "source": [
    "# Run this cell without changes\n",
    "def add_one(number):\n",
    "    return number + 1\n",
    "\n",
    "def times_five(number):\n",
    "    return number * 5\n",
    "\n",
    "number_plus_one = add_one(1)\n",
    "answer = times_five(number_plus_one)\n",
    "\n",
    "print(answer)"
   ]
  },
  {
   "cell_type": "markdown",
   "metadata": {},
   "source": [
    "Can you describe the difference between `print` and `return` as a function output? Why do we need to use `return` above in order to make those functions work? What would happen if we changed `return` to `print` in those two functions - what would `answer` look like in that case?"
   ]
  },
  {
   "cell_type": "markdown",
   "metadata": {},
   "source": [
    "Can our functions take multiple arguments? They sure can!"
   ]
  },
  {
   "cell_type": "code",
   "execution_count": 162,
   "metadata": {
    "scrolled": true
   },
   "outputs": [
    {
     "ename": "SyntaxError",
     "evalue": "non-default argument follows default argument (<ipython-input-162-85386c9abf32>, line 2)",
     "output_type": "error",
     "traceback": [
      "\u001b[0;36m  File \u001b[0;32m\"<ipython-input-162-85386c9abf32>\"\u001b[0;36m, line \u001b[0;32m2\u001b[0m\n\u001b[0;31m    def greet_friend(greeting='hi', name):\u001b[0m\n\u001b[0m                    ^\u001b[0m\n\u001b[0;31mSyntaxError\u001b[0m\u001b[0;31m:\u001b[0m non-default argument follows default argument\n"
     ]
    }
   ],
   "source": [
    "# Run this cell without changes - what's wrong? Then, fix it!\n",
    "def greet_friend(greeting='hi', name):\n",
    "    print(f\"I'd like to say {greeting} to {name}\")"
   ]
  },
  {
   "cell_type": "code",
   "execution_count": 164,
   "metadata": {},
   "outputs": [],
   "source": [
    "def greet_friend(greeting='hi', name='my friend'):\n",
    "    print(f\"I'd like to say {greeting} to {name}\")"
   ]
  },
  {
   "cell_type": "code",
   "execution_count": 166,
   "metadata": {},
   "outputs": [
    {
     "name": "stdout",
     "output_type": "stream",
     "text": [
      "I'd like to say hi to my friend\n",
      "I'd like to say hello to my friend\n",
      "I'd like to say oh heyyyy to Bryan\n"
     ]
    }
   ],
   "source": [
    "# Test our greet_friend function with different arguments or without any\n",
    "greet_friend()\n",
    "\n",
    "greet_friend(\"hello\")\n",
    "\n",
    "greet_friend(greeting='oh heyyyy', name=\"Bryan\")"
   ]
  },
  {
   "cell_type": "markdown",
   "metadata": {},
   "source": [
    "#### Back to our shopping list:\n",
    "\n",
    "Adapt your shopping list's for loop into a function that takes a dictionary, where the key is the name of the item and the value is its cost, and only adds items if they are less than $10. \n",
    "\n",
    "It should return the total cost without items that cost more than $10."
   ]
  },
  {
   "cell_type": "code",
   "execution_count": 110,
   "metadata": {},
   "outputs": [],
   "source": [
    "# Replace pass with the appropriate code\n",
    "def calc_frugal_total(dictionary):\n",
    "    grocery_total = 0\n",
    "    for key, value in dictionary.items():\n",
    "        if value > 10:\n",
    "            print(f\"{key} is too expensive.\")\n",
    "            print(\"---\")\n",
    "        else:\n",
    "            grocery_total += value\n",
    "            print(f\"Adding {key} to the grocery list\")\n",
    "            print(f\"Current total is: {grocery_total}\")\n",
    "            print(\"---\")\n",
    "    \n",
    "    return grocery_total"
   ]
  },
  {
   "cell_type": "code",
   "execution_count": 111,
   "metadata": {},
   "outputs": [
    {
     "name": "stdout",
     "output_type": "stream",
     "text": [
      "Adding cheese to the grocery list\n",
      "Current total is: 2.79\n",
      "---\n",
      "Adding whole milk to the grocery list\n",
      "Current total is: 6.21\n",
      "---\n",
      "Adding kefir to the grocery list\n",
      "Current total is: 10.71\n",
      "---\n",
      "tofu four-pack is too expensive.\n",
      "---\n",
      "Adding kale to the grocery list\n",
      "Current total is: 13.46\n",
      "---\n",
      "Adding oranges to the grocery list\n",
      "Current total is: 17.1\n",
      "---\n",
      "ham is too expensive.\n",
      "---\n",
      "Adding ben & jerry's to the grocery list\n",
      "Current total is: 22.39\n",
      "---\n"
     ]
    },
    {
     "data": {
      "text/plain": [
       "22.39"
      ]
     },
     "execution_count": 111,
     "metadata": {},
     "output_type": "execute_result"
    }
   ],
   "source": [
    "# Run this cell without changes to check your work\n",
    "calc_frugal_total(grocery_list)"
   ]
  },
  {
   "cell_type": "markdown",
   "metadata": {},
   "source": [
    "### Nested Dictionaries\n",
    "\n",
    "Here is a more robust shopping list of nested dictionaries:"
   ]
  },
  {
   "cell_type": "code",
   "execution_count": 112,
   "metadata": {},
   "outputs": [],
   "source": [
    "shopping_dict = {'Groceries': {\"ben & jerry's\": 5.29, 'cheese': 2.79, \n",
    "                               'ham': 25.0, 'kale': 2.75, 'kefir': 4.5, \n",
    "                               'oranges': 3.64, 'tofu four-pack': 12.0, \n",
    "                               'whole milk': 3.42},\n",
    "                 'House Supplies': {'toilet paper pack': 16.50, \n",
    "                                    'clorox spray': 6.43, 'kleenex': 2.50, },\n",
    "                 'Pet Supplies': {'fancy grain-free kibble': 65.25, \n",
    "                                  'squeaky toy': 4.50, 'treats': 8.45}}"
   ]
  },
  {
   "cell_type": "markdown",
   "metadata": {},
   "source": [
    "Nested dictionaries call for nested for loops! Write a set of nested for loops that create a total grocery list, so we have just one list to take to the store and find what we need."
   ]
  },
  {
   "cell_type": "code",
   "execution_count": 113,
   "metadata": {},
   "outputs": [],
   "source": [
    "# Code to write your nested loops\n",
    "complete_list = []\n",
    "for dictionary in shopping_dict.keys():\n",
    "    for key in shopping_dict[dictionary].keys():\n",
    "        complete_list.append(key)"
   ]
  },
  {
   "cell_type": "code",
   "execution_count": 114,
   "metadata": {},
   "outputs": [
    {
     "data": {
      "text/plain": [
       "[\"ben & jerry's\",\n",
       " 'cheese',\n",
       " 'ham',\n",
       " 'kale',\n",
       " 'kefir',\n",
       " 'oranges',\n",
       " 'tofu four-pack',\n",
       " 'whole milk',\n",
       " 'toilet paper pack',\n",
       " 'clorox spray',\n",
       " 'kleenex',\n",
       " 'fancy grain-free kibble',\n",
       " 'squeaky toy',\n",
       " 'treats']"
      ]
     },
     "execution_count": 114,
     "metadata": {},
     "output_type": "execute_result"
    }
   ],
   "source": [
    "# Check your work\n",
    "complete_list"
   ]
  },
  {
   "cell_type": "markdown",
   "metadata": {},
   "source": [
    "Now let's turn that into a function that, when given nested dictionaries, returns a list of each item as our grocery list to take with us to the store. It should also print our expected total, so we know how much we expect to spend.\n",
    "\n",
    "Use [this link](https://stackoverflow.com/questions/45310254/fixed-digits-after-decimal-with-f-strings) for help in formatting the total to two decimal places using an f-string."
   ]
  },
  {
   "cell_type": "code",
   "execution_count": 115,
   "metadata": {},
   "outputs": [],
   "source": [
    "# Replace pass with appropriate code\n",
    "def write_grocery_list(nested_dict):\n",
    "    grocery_list = []\n",
    "    total_cost = 0\n",
    "    for dictionary in nested_dict:\n",
    "        total = sum(nested_dict[dictionary].values())\n",
    "        total_cost += total\n",
    "        print(f\"The {dictionary} list costs ${total:.2f}\")\n",
    "        for key in shopping_dict[dictionary].keys():\n",
    "            grocery_list.append(key)\n",
    "    print(f\"The total cost will be ${total_cost:.2f}\")\n",
    "    return grocery_list"
   ]
  },
  {
   "cell_type": "code",
   "execution_count": 116,
   "metadata": {},
   "outputs": [
    {
     "name": "stdout",
     "output_type": "stream",
     "text": [
      "The Groceries list costs $59.39\n",
      "The House Supplies list costs $25.43\n",
      "The Pet Supplies list costs $78.20\n",
      "The total cost will be $163.02\n"
     ]
    },
    {
     "data": {
      "text/plain": [
       "[\"ben & jerry's\",\n",
       " 'cheese',\n",
       " 'ham',\n",
       " 'kale',\n",
       " 'kefir',\n",
       " 'oranges',\n",
       " 'tofu four-pack',\n",
       " 'whole milk',\n",
       " 'toilet paper pack',\n",
       " 'clorox spray',\n",
       " 'kleenex',\n",
       " 'fancy grain-free kibble',\n",
       " 'squeaky toy',\n",
       " 'treats']"
      ]
     },
     "execution_count": 116,
     "metadata": {},
     "output_type": "execute_result"
    }
   ],
   "source": [
    "# Run this cell without changes to check your work\n",
    "write_grocery_list(shopping_dict)"
   ]
  },
  {
   "cell_type": "markdown",
   "metadata": {},
   "source": [
    "## Level Up:\n",
    "\n",
    "Adapt your grocery function to do the following:\n",
    "\n",
    "- flag expensive items that cost more than $20, and do not add them to your list\n",
    "\n",
    "- block items that will push the total cost above $50\n",
    "\n",
    "- print out the average cost per item on your list\n",
    "\n",
    "It should still take in a nested dictionary, and return your grocery list."
   ]
  },
  {
   "cell_type": "code",
   "execution_count": 154,
   "metadata": {},
   "outputs": [],
   "source": [
    "# Code your leveled-up function here\n",
    "def level_up_grocery_list(nested_dict):\n",
    "    grocery_list = []\n",
    "    total_cost = 0\n",
    "    num_items = 0\n",
    "    \n",
    "    for dictionary in nested_dict:\n",
    "        \n",
    "        for item, cost in nested_dict[dictionary].items():\n",
    "            \n",
    "            if cost > 20:\n",
    "                print(f\"{item} is too expensive.\")\n",
    "                print(\"---\")\n",
    "                continue\n",
    "                \n",
    "            elif (total_cost + cost) <= 50:\n",
    "                print(f\"Adding {item} for ${cost:.2f}\")\n",
    "                print(\"---\")\n",
    "                total_cost += cost\n",
    "                grocery_list.append(item)\n",
    "                num_items += 1\n",
    "\n",
    "    average_cost = total_cost / num_items\n",
    "    \n",
    "    print(f\"The total cost will be ${total_cost:.2f}\")\n",
    "    print(f\"The average cost per item is ${average_cost:.2f}\")\n",
    "    return grocery_list"
   ]
  },
  {
   "cell_type": "code",
   "execution_count": 155,
   "metadata": {
    "scrolled": false
   },
   "outputs": [
    {
     "name": "stdout",
     "output_type": "stream",
     "text": [
      "Adding ben & jerry's for $5.29\n",
      "---\n",
      "Adding cheese for $2.79\n",
      "---\n",
      "ham is too expensive.\n",
      "---\n",
      "Adding kale for $2.75\n",
      "---\n",
      "Adding kefir for $4.50\n",
      "---\n",
      "Adding oranges for $3.64\n",
      "---\n",
      "Adding tofu four-pack for $12.00\n",
      "---\n",
      "Adding whole milk for $3.42\n",
      "---\n",
      "Adding clorox spray for $6.43\n",
      "---\n",
      "Adding kleenex for $2.50\n",
      "---\n",
      "fancy grain-free kibble is too expensive.\n",
      "---\n",
      "Adding squeaky toy for $4.50\n",
      "---\n",
      "The total cost will be $47.82\n",
      "The average cost per item is $4.78\n"
     ]
    },
    {
     "data": {
      "text/plain": [
       "[\"ben & jerry's\",\n",
       " 'cheese',\n",
       " 'kale',\n",
       " 'kefir',\n",
       " 'oranges',\n",
       " 'tofu four-pack',\n",
       " 'whole milk',\n",
       " 'clorox spray',\n",
       " 'kleenex',\n",
       " 'squeaky toy']"
      ]
     },
     "execution_count": 155,
     "metadata": {},
     "output_type": "execute_result"
    }
   ],
   "source": [
    "# Check your work\n",
    "level_up_grocery_list(shopping_dict)"
   ]
  },
  {
   "cell_type": "code",
   "execution_count": null,
   "metadata": {},
   "outputs": [],
   "source": []
  }
 ],
 "metadata": {
  "kernelspec": {
   "display_name": "Python 3",
   "language": "python",
   "name": "python3"
  },
  "language_info": {
   "codemirror_mode": {
    "name": "ipython",
    "version": 3
   },
   "file_extension": ".py",
   "mimetype": "text/x-python",
   "name": "python",
   "nbconvert_exporter": "python",
   "pygments_lexer": "ipython3",
   "version": "3.6.9"
  }
 },
 "nbformat": 4,
 "nbformat_minor": 2
}
